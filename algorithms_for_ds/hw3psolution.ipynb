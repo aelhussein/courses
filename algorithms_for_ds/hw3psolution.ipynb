{
 "cells": [
  {
   "cell_type": "markdown",
   "metadata": {},
   "source": [
    "# Max Flow Applications\n",
    "\n",
    "The purpose of this assignment is to investigate applications of finding a Max Flow. The problem asks you to design and implement an algorithm for shipping a material between nodes with different supply and demand requirements.\n",
    "\n",
    "* Please write code *only* in the bodies of the two functions, that is, following the TODO comments.\n",
    "* Be careful not to use varibles defined outside of the functions.\n",
    "* Breaking the two above rules may lead to 0 grades."
   ]
  },
  {
   "cell_type": "markdown",
   "metadata": {},
   "source": [
    "## Movie distribution\n",
    "\n",
    "Recall Problem 1 from hw3t. \n",
    "\n",
    "Now suppose a movie distributor would like to ship a copy of a film from CA to every other state. There are therefore 48 units to ship out of CA, and each other state receives 1 unit. \n",
    "\n",
    "The dataset contiguous-usa.dat lists the adjacent states in the US. Each line lists two adjacent states; thus AK and HI are omitted, but DC is included in the data. The following code reads in the graph of US states."
   ]
  },
  {
   "cell_type": "code",
   "execution_count": 1,
   "metadata": {},
   "outputs": [],
   "source": [
    "import networkx as nx\n",
    "G = nx.Graph()\n",
    "\n",
    "usa = open('contiguous-usa.dat')\n",
    "for line in usa:\n",
    "    s1, s2 = line.strip().split()\n",
    "    G.add_edge(s1, s2)"
   ]
  },
  {
   "cell_type": "markdown",
   "metadata": {},
   "source": [
    "We now encode the demands into the graph."
   ]
  },
  {
   "cell_type": "code",
   "execution_count": 2,
   "metadata": {},
   "outputs": [],
   "source": [
    "for state in G.nodes():\n",
    "    if state != 'CA':\n",
    "        G.nodes[state]['demand'] = 1\n",
    "G.nodes['CA']['demand'] = -48"
   ]
  },
  {
   "cell_type": "markdown",
   "metadata": {},
   "source": [
    "We will assign a uniform capacity of 16 to each edge. Since CA has only three adjacent states, this is the smallest possible uniform capacity that allows one to ship all 48 units out of CA. As we have created an undirected graph, and flows have directions, we first convert the graph to a directed graph."
   ]
  },
  {
   "cell_type": "code",
   "execution_count": 3,
   "metadata": {},
   "outputs": [],
   "source": [
    "G = nx.DiGraph(G)\n",
    "uniform_capacity = 16\n",
    "for (s1, s2) in G.edges():\n",
    "    G.edges[s1, s2]['capacity'] = uniform_capacity"
   ]
  },
  {
   "cell_type": "markdown",
   "metadata": {},
   "source": [
    "Complete the following function to implement your algorithm to find a flow with demands. Your function should work correctly for any input, not just the movie instance considered here. As always, you are encouraged to define auxiliary functions as needed for clarity."
   ]
  },
  {
   "cell_type": "code",
   "execution_count": 5,
   "metadata": {},
   "outputs": [],
   "source": [
    "def flow_with_demands(graph):\n",
    "    \"\"\"Computes a flow with demands over the given graph.\n",
    "    \n",
    "    Args:\n",
    "        graph: A directed graph with nodes annotated with 'demand' properties and edges annotated with 'capacity' \n",
    "            properties.\n",
    "        \n",
    "    Returns:\n",
    "        A dict of dicts containing the flow on each edge. For instance, flow[s1][s2] should provide the flow along\n",
    "        edge (s1, s2).\n",
    "        \n",
    "    Raises:\n",
    "        NetworkXUnfeasible: An error is thrown if there is no flow satisfying the demands.\n",
    "    \"\"\"\n",
    "    # TODO: Implement the function.\n",
    "    #Create graph with sink and source\n",
    "    graph_2, total_demand, total_supply = add_source_sink(graph)\n",
    "    #Run only when demand constraint run\n",
    "    if total_demand == total_supply:\n",
    "        #Run flow algorithm (FF)\n",
    "        flow_value, flow_path = nx.maximum_flow(graph_2, 'Source', 'Sink')\n",
    "        #Extract Source and Sink nodes from dictionary\n",
    "        flow_path = {node: flow_path[node] for node in flow_path if (node != 'Sink' and node!=  'Source')}\n",
    "        for node in flow_path.keys():\n",
    "            flow_path[node] = {node2: flow_path[node][node2] for node2 in flow_path[node] if node2 != 'Sink' and node2!=  'Source'}\n",
    "        return flow_path\n",
    "    #Else raise error\n",
    "    else:\n",
    "        raise nx.NetworkXUnfeasible('Demand constraint not met')\n",
    "\n",
    "        \n",
    "def add_source_sink(graph):\n",
    "    \"\"\"adds a sink to the graph wth edge for all nodes with demand > 0 and source node for all with edge for all nodes with\n",
    "        demand < 0 (Ca).\n",
    "    \n",
    "    Args:\n",
    "        graph: A directed graph with nodes annotated with 'demand' properties and edges annotated with 'capacity' \n",
    "            properties.\n",
    "        \n",
    "    Returns:\n",
    "        An updated graph with a sink and source node that allows FF algorithm to run\n",
    "        \n",
    "    \"\"\"\n",
    "    graph2 = graph.copy()   \n",
    "    total_demand = 0\n",
    "    total_supply = 0\n",
    "    for state in list(graph2.nodes()):\n",
    "        #Positive demand states (All - 'CA')\n",
    "        if graph2.nodes[state]['demand'] > 0:\n",
    "            graph2.add_edge(state, 'Sink')\n",
    "            graph2.edges[state, 'Sink']['capacity'] = graph2.nodes[state]['demand']\n",
    "            total_demand += graph2.nodes[state]['demand']\n",
    "        #Negative demand states ('CA')\n",
    "        elif graph2.nodes[state]['demand'] < 0:\n",
    "            graph2.add_edge('Source', state)\n",
    "            graph2.edges['Source', state]['capacity'] = - graph2.nodes[state]['demand']\n",
    "            total_supply -= graph2.nodes[state]['demand']\n",
    "    return (graph2, total_demand, total_supply)"
   ]
  },
  {
   "cell_type": "markdown",
   "metadata": {},
   "source": [
    "To verify that your solution is correct, implement a function that computes the total flow into each node (which will be negative for supply nodes)."
   ]
  },
  {
   "cell_type": "code",
   "execution_count": 6,
   "metadata": {},
   "outputs": [],
   "source": [
    "def divergence(flow):\n",
    "    \"\"\"Computes the total flow into each node according to the given flow dict.\n",
    "    \n",
    "    Args:\n",
    "        flow: the flow dict recording flow between nodes.\n",
    "        \n",
    "    Returns:\n",
    "        A dict of the net flow into each node.\n",
    "    \"\"\"\n",
    "    # TODO: Implement the function.\n",
    "    #Create new dictionary\n",
    "    nodes = {}\n",
    "    for node in flow:\n",
    "        nodes[node] = 0 \n",
    "    #Fill with appropriate flow\n",
    "    for outgoing_node in flow:\n",
    "        for incoming_node in flow[outgoing_node]:\n",
    "            nodes[outgoing_node] -= flow[outgoing_node][incoming_node]\n",
    "            nodes[incoming_node] += flow[outgoing_node][incoming_node]\n",
    "    return nodes"
   ]
  },
  {
   "cell_type": "markdown",
   "metadata": {},
   "source": [
    "The following code performs a sanity check on your function (but does not completely confirm correctness)."
   ]
  },
  {
   "cell_type": "code",
   "execution_count": 8,
   "metadata": {},
   "outputs": [
    {
     "name": "stdout",
     "output_type": "stream",
     "text": [
      "Flow satisfies all demands: True\n"
     ]
    }
   ],
   "source": [
    "flow = flow_with_demands(G)\n",
    "div = divergence(flow)\n",
    "#print (\"Flow satisfies all demands:\", all(div[n] == G.nodes[n]['demand'] for n in G.nodes()))"
   ]
  }
 ],
 "metadata": {
  "kernelspec": {
   "display_name": "Python 3 (ipykernel)",
   "language": "python",
   "name": "python3"
  },
  "language_info": {
   "codemirror_mode": {
    "name": "ipython",
    "version": 3
   },
   "file_extension": ".py",
   "mimetype": "text/x-python",
   "name": "python",
   "nbconvert_exporter": "python",
   "pygments_lexer": "ipython3",
   "version": "3.8.2"
  }
 },
 "nbformat": 4,
 "nbformat_minor": 1
}
