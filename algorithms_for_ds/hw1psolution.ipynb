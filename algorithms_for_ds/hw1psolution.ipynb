{
 "cells": [
  {
   "cell_type": "markdown",
   "metadata": {},
   "source": [
    "# Connected Components\n",
    "\n",
    "The purpose of this assignment is to familiarize yourself with the handling of graph data structures. You will implement depth-first search for identifying the connected components of an undirected graph, implementing procedure Search as a subroutine along the way.\n",
    "\n",
    "You will use the [NetworkX](https://networkx.github.io/) Python package to represent and manipulate graphs. You should first familiarize yourself with its functionality by going through the brief [tutorial](http://networkx.github.io/documentation/networkx-1.9.1/tutorial/index.html). For this homework, you may only use the basic undirected graph methods listed [here](http://networkx.github.io/documentation/networkx-1.9.1/reference/classes.graph.html).\n",
    "\n",
    "As a use case, we will work with a dataset recording the interactions between characters in Homer's *Iliad*."
   ]
  },
  {
   "cell_type": "code",
   "execution_count": 1,
   "metadata": {},
   "outputs": [],
   "source": [
    "import networkx\n",
    "homer = open('homer.dat')"
   ]
  },
  {
   "cell_type": "markdown",
   "metadata": {},
   "source": [
    "The format of the data is straightforward. After some comment lines (beginning with \\*), the file lists a codename for each character (i.e., node of the graph), followed by a description. The file then lists the groups of characters that interact in each chapter, from which you will form the edges. For instance, the first line has the form:\n",
    "\n",
    "```1:CH,AG,ME,GS;AP,CH;HE,AC;AC,AG,CA;HE,AT;AT,AC;AT,OG;NE,AG,AC;CS,OD```\n",
    "\n",
    "This means that CH,AG,ME,GS interacted, so there are edges for all pairs of these nodes. Groups of characters that interacted are separated by semicolons. The lines start with chapter information of the form `1:` or `&:`, which can be ignored for this problem."
   ]
  },
  {
   "cell_type": "markdown",
   "metadata": {},
   "source": [
    "First implement a function to read in the nodes from the input file. You may implement any auxiliary functions as needed, and are encouraged to use small functions with specific purposes to keep your code readable. Any function you implement should be clearly commented."
   ]
  },
  {
   "cell_type": "markdown",
   "metadata": {},
   "source": [
    "Next implement a function to read in the edges from the input file."
   ]
  },
  {
   "cell_type": "code",
   "execution_count": 3,
   "metadata": {},
   "outputs": [],
   "source": [
    "def read_nodes(gfile):\n",
    "    \"\"\"Reads in the nodes of the graph from the input file.\n",
    "    \n",
    "    Args:\n",
    "        gfile: A handle for the file containing the graph data, starting at the top.\n",
    "        \n",
    "    Returns:\n",
    "        A list of the nodes in the graph of the form:\n",
    "            ['CH', 'AG, 'ME', ...]\n",
    "    \"\"\"\n",
    "    # TODO: implement function        \n",
    "    lines = gfile.readlines()\n",
    "    gfile.seek(0)\n",
    "    chapters = extract_chapters(lines)\n",
    "    characters = extract_characters(lines, chapters)\n",
    "    return characters\n",
    "\n",
    "\n",
    "def extract_chapters(lines):\n",
    "    \"\"\"Reads in the chapters from the input file\n",
    "    \n",
    "    Args:\n",
    "        lines: the read lines of the gfile\n",
    "        \n",
    "    Returns:\n",
    "        A list of the chapters in the book\n",
    "    \"\"\"\n",
    "    chapters = []\n",
    "    for line in lines:\n",
    "        if line[0:2] == '\\n':\n",
    "            pass\n",
    "        elif line[1] == ':':\n",
    "            chapters.append(line[0:2])\n",
    "        elif line[2] == ':':\n",
    "            chapters.append(line[0:3])\n",
    "    return list(set(chapters))\n",
    "\n",
    "\n",
    "def extract_characters(lines, chapters):\n",
    "    \"\"\"Reads in the characters from the input file and chapters list\n",
    "    \n",
    "    Args:\n",
    "        lines: the read lines of the gfile\n",
    "        chapters: list of chapters which contain characters in book\n",
    "        \n",
    "    Returns:\n",
    "        A list of the characters in the book\n",
    "    \"\"\"\n",
    "    characters = []\n",
    "    for line in lines:\n",
    "        if any(line.startswith(x) for x in chapters):\n",
    "            if line[1] == ':':\n",
    "                add = line[2:len(line)-1].replace(';', ',').split(',')\n",
    "                characters.append(add)\n",
    "            else:\n",
    "                add = line[3:len(line)-1].replace(';', ',').split(',')\n",
    "                characters.append(add)\n",
    "    return list(set([char for sublist in characters for char in sublist]))\n"
   ]
  },
  {
   "cell_type": "code",
   "execution_count": 4,
   "metadata": {},
   "outputs": [],
   "source": [
    "def read_edges(gfile):\n",
    "    \"\"\"Reads in the edges of the graph from the input file.\n",
    "    \n",
    "    Args:\n",
    "        gfile: A handle for the file containing the graph data, starting at the top \n",
    "            of the edges section.\n",
    "            \n",
    "    Returns:\n",
    "        The edges in the graph as a list of pairs of the form:\n",
    "            [('CH', 'AG'), ('AG', 'ME'), ...]\n",
    "    \"\"\"\n",
    "    # TODO: implement function\n",
    "    lines = gfile.readlines()\n",
    "    gfile.seek(0)\n",
    "    chapters = extract_chapters(lines)\n",
    "    interactions = extract_interactions(lines, chapters)\n",
    "    edges = extract_edges(interactions)\n",
    "    return edges\n",
    "        \n",
    "def extract_interactions(lines, chapters):\n",
    "    \"\"\"Reads in the interations from the input file and chapters list\n",
    "    \n",
    "    Args:\n",
    "        lines: the read lines of the gfile\n",
    "        chapters: list of chapters which contain characters in book\n",
    "        \n",
    "    Returns:\n",
    "        A list of the interactions in the book\n",
    "    \"\"\"\n",
    "    interactions = []\n",
    "    for line in lines:\n",
    "        if any(line.startswith(x) for x in chapters):\n",
    "            if line[1] == ':':\n",
    "                add = line[2:len(line)-1].split(';')\n",
    "                interactions.append(add)\n",
    "            else:\n",
    "                add = line[3:len(line)-1].split(';')\n",
    "                interactions.append(add)\n",
    "    return interactions\n",
    "\n",
    "def extract_edges(interactions):\n",
    "    \"\"\"Creates list with each entry a tuple with the characters who interacted\n",
    "    \n",
    "    Args:\n",
    "        interactions: a list of each set of interactions in the book\n",
    "        \n",
    "    Returns:\n",
    "        A list interaction pairs (edges)\n",
    "    \"\"\"\n",
    "    pair_edges = []\n",
    "    for interaction_chapter in interactions:\n",
    "        for interaction in interaction_chapter:\n",
    "            pair_interactions = interaction.split(',')\n",
    "            for i in pair_interactions:\n",
    "                for j in pair_interactions:\n",
    "                    if i !=j:\n",
    "                        if (j,i) not in pair_edges:\n",
    "                            pair_edges.append((i,j))\n",
    "    return pair_edges"
   ]
  },
  {
   "cell_type": "markdown",
   "metadata": {},
   "source": [
    "The following code should now correctly create the graph."
   ]
  },
  {
   "cell_type": "code",
   "execution_count": 5,
   "metadata": {},
   "outputs": [],
   "source": [
    "import networkx as nx\n",
    "G = nx.Graph()\n",
    "G.add_nodes_from(read_nodes(homer))\n",
    "G.add_edges_from(read_edges(homer))"
   ]
  },
  {
   "cell_type": "markdown",
   "metadata": {},
   "source": [
    "Next implement procedure Search. The function takes in a graph and a root node, and returns a list of the nodes visited during the search. The nodes should appear in the order in which they were *first visited*. The neighbors of a node should be processed in *alphabetical order*, where numbers come before letters. This will ensure that the output of your function is uniquely defined, given any input node."
   ]
  },
  {
   "cell_type": "code",
   "execution_count": 6,
   "metadata": {},
   "outputs": [],
   "source": [
    "def Search(graph, root):\n",
    "    \"\"\"Runs Search from vertex root in a graph. Neighboring nodes are processed in alphabetical order.\n",
    "    \n",
    "    Args:\n",
    "        graph: the given graph, with nodes encoded as strings.\n",
    "        root: the node from which to start the search.\n",
    "        \n",
    "    Returns:\n",
    "        A list of nodes in the order in which they were first visited.\n",
    "    \"\"\"\n",
    "    # TODO: implement function\n",
    "    nodes_visited = initialise(graph)\n",
    "    path = DFS(graph, root, nodes_visited)\n",
    "    return path\n",
    "\n",
    "\n",
    "def deterministic_sort(node_list):\n",
    "    \"\"\"Sorts nodes in numeric-alphabet order\n",
    "    \n",
    "    Args:\n",
    "        node_list: list of nodes to sort\n",
    "        \n",
    "    Returns:\n",
    "        A list of nodes in the order in which they should be visited\n",
    "    \"\"\"\n",
    "    numeric = []\n",
    "    alphanumeric = []\n",
    "    alphabet = []\n",
    "    for i in node_list:\n",
    "        if i.isnumeric():\n",
    "            numeric.append(i)\n",
    "        elif i[0].isnumeric():\n",
    "            alphanumeric.append(i)\n",
    "        else:\n",
    "            alphabet.append(i)\n",
    "    numeric.sort()\n",
    "    alphanumeric.sort()\n",
    "    alphabet.sort()\n",
    "    return numeric + alphanumeric + alphabet\n",
    "\n",
    "\n",
    "def initialise(graph):\n",
    "    \"\"\"Initialises tracker for nodes visited\n",
    "    \n",
    "    Args:\n",
    "        graph: the graph input\n",
    "        \n",
    "    Returns:\n",
    "        A dictionary with False recorded for every node as none have been visited yet\n",
    "    \"\"\"\n",
    "    nodes = list(graph.nodes)\n",
    "    nodes = deterministic_sort(nodes)\n",
    "    nodes_visited = {}\n",
    "    for node in nodes:\n",
    "        nodes_visited[node] = False\n",
    "    return nodes_visited\n",
    "    \n",
    "def DFS(graph, root, nodes_visited):\n",
    "    \"\"\"Runs DFS from the root node going only to nodes not already visited in sorted order\n",
    "    \n",
    "    Args:\n",
    "        graph: the graph input\n",
    "        root: the starting node\n",
    "        nodes_visited: dictionary of nodes already visited\n",
    "        \n",
    "    Returns:\n",
    "        A path from the root node to all nodes that are reachable\n",
    "    \"\"\"\n",
    "    nodes_visited[root] = True\n",
    "    path = []\n",
    "    path.append(root)\n",
    "    sorted_neighbors = deterministic_sort(list(graph.neighbors(root)))\n",
    "    for neighbor in sorted_neighbors:\n",
    "        if not(nodes_visited[neighbor]):\n",
    "            nodes_visited[neighbor] = True\n",
    "            path_recursive = DFS(graph, neighbor, nodes_visited)\n",
    "            for node in path_recursive:\n",
    "                path.append(node)\n",
    "    return path\n",
    "    "
   ]
  },
  {
   "cell_type": "markdown",
   "metadata": {},
   "source": [
    "We will check the correctness of your code by verifying that it correctly computes the connected component of node Ulysses (node `OD`)."
   ]
  },
  {
   "cell_type": "code",
   "execution_count": 7,
   "metadata": {},
   "outputs": [],
   "source": [
    "ulysses = Search(G, 'OD')"
   ]
  },
  {
   "cell_type": "markdown",
   "metadata": {},
   "source": [
    "Next implement DFS to find the connected components of the character graph. When choosing roots for your components, always pick the *smallest unvisited node* according to alphabetical ordering. Combined with your Search routine, this will ensure that the output is again uniquely defined."
   ]
  },
  {
   "cell_type": "code",
   "execution_count": 8,
   "metadata": {},
   "outputs": [],
   "source": [
    "def connected_components(graph):\n",
    "    \"\"\"Computes the connected components of the given graph.\n",
    "    \n",
    "    Args: \n",
    "        graph: the given graph, with nodes encoded as strings.\n",
    "        \n",
    "    Returns:\n",
    "        The connected components of the graph. Components are listed in\n",
    "        alphabetical order of their root nodes.\n",
    "    \"\"\"\n",
    "    # TODO: implement function\n",
    "    connected_paths = []\n",
    "    nodes_visited = initialise(graph)\n",
    "    for node in nodes_visited:\n",
    "        if nodes_visited[node] == False:\n",
    "            nodes_visited[node]\n",
    "            paths = Search(graph, node)\n",
    "            for i in paths:\n",
    "                nodes_visited[i] = True\n",
    "            connected_paths.append(paths)\n",
    "    return connected_paths"
   ]
  },
  {
   "cell_type": "markdown",
   "metadata": {},
   "source": [
    "We will check correctness of your code by verifying that your output is identical to our solution."
   ]
  },
  {
   "cell_type": "code",
   "execution_count": 9,
   "metadata": {},
   "outputs": [],
   "source": [
    "character_interactions = connected_components(G)"
   ]
  },
  {
   "cell_type": "markdown",
   "metadata": {},
   "source": [
    "As a preliminary check, you should find that the following statements are all true."
   ]
  },
  {
   "cell_type": "code",
   "execution_count": 10,
   "metadata": {
    "scrolled": true
   },
   "outputs": [
    {
     "name": "stdout",
     "output_type": "stream",
     "text": [
      "There are 12 connected components in the Iliad:True\n",
      "The giant component has size 542:True\n",
      "There are 5 isolated characters:True\n"
     ]
    }
   ],
   "source": [
    "component_sizes = [len(c) for c in character_interactions]\n",
    "print(\"There are 12 connected components in the Iliad:{}\".format(len(component_sizes) == 12))\n",
    "print(\"The giant component has size 542:{}\".format(max(component_sizes) == 542))\n",
    "print(\"There are 5 isolated characters:{}\".format(len([c for c in component_sizes if c == 1]) == 5))"
   ]
  }
 ],
 "metadata": {
  "kernelspec": {
   "display_name": "Python 3",
   "language": "python",
   "name": "python3"
  },
  "language_info": {
   "codemirror_mode": {
    "name": "ipython",
    "version": 3
   },
   "file_extension": ".py",
   "mimetype": "text/x-python",
   "name": "python",
   "nbconvert_exporter": "python",
   "pygments_lexer": "ipython3",
   "version": "3.8.8"
  }
 },
 "nbformat": 4,
 "nbformat_minor": 1
}
